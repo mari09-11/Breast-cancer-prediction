{
 "cells": [
  {
   "cell_type": "code",
   "execution_count": 1,
   "id": "ae9c9c40",
   "metadata": {
    "_cell_guid": "b1076dfc-b9ad-4769-8c92-a6c4dae69d19",
    "_uuid": "8f2839f25d086af736a60e9eeb907d3b93b6e0e5",
    "execution": {
     "iopub.execute_input": "2023-10-13T06:41:05.107910Z",
     "iopub.status.busy": "2023-10-13T06:41:05.107257Z",
     "iopub.status.idle": "2023-10-13T06:41:08.022799Z",
     "shell.execute_reply": "2023-10-13T06:41:08.021818Z"
    },
    "papermill": {
     "duration": 2.923078,
     "end_time": "2023-10-13T06:41:08.025477",
     "exception": false,
     "start_time": "2023-10-13T06:41:05.102399",
     "status": "completed"
    },
    "tags": []
   },
   "outputs": [
    {
     "name": "stdout",
     "output_type": "stream",
     "text": [
      "Accuracy: 0.9649123\n"
     ]
    }
   ],
   "source": [
    "# import numpy as np\n",
    "# import pandas as pd\n",
    "# from sklearn.model_selection import train_test_split\n",
    "# from sklearn.metrics import accuracy_score\n",
    "# from sklearn.preprocessing import LabelEncoder\n",
    "# from sklearn.ensemble import RandomForestClassifier\n",
    "# df = pd.read_csv('/kaggle/input/archive/data.csv')\n",
    "# label_encoder = LabelEncoder()\n",
    "# df['diagnosis'] = label_encoder.fit_transform(df['diagnosis'])\n",
    "# df['diagnosis'].value_counts()\n",
    "# df.groupby('diagnosis').mean()\n",
    "# X = df.drop(columns='diagnosis', axis=1)\n",
    "# Y = df['diagnosis']\n",
    "# # print(X)\n",
    "# # print(Y)\n",
    "# X_train, X_test, Y_train, Y_test = train_test_split(X, Y, test_size=0.2, random_state=2)\n",
    "# print(X.shape, X_train.shape, X_test.shape)\n",
    "# df = df.dropna()\n",
    "\n",
    "import pandas as pd\n",
    "from sklearn.model_selection import train_test_split\n",
    "from sklearn.ensemble import RandomForestClassifier\n",
    "from sklearn.metrics import accuracy_score\n",
    "\n",
    "data = pd.read_csv(\"/kaggle/input/archive/data.csv\")\n",
    "\n",
    "# Data Preprocessing\n",
    "remap = {'M': 1, 'B': 0}\n",
    "data['diagnosis'] = data['diagnosis'].map(remap)\n",
    "\n",
    "# Remove unnecessary columns\n",
    "data.drop(['Unnamed: 32', 'id'], axis=1, inplace=True)\n",
    "\n",
    "# Define features (X) and target (y)\n",
    "X = data.drop('diagnosis', axis=1)\n",
    "y = data['diagnosis']\n",
    "\n",
    "# Split the data into training and testing sets\n",
    "X_train, X_test, y_train, y_test = train_test_split(X, y, test_size=0.1, random_state=42)\n",
    "\n",
    "# Initialize and train the model\n",
    "model = RandomForestClassifier(n_estimators=100, random_state=42)\n",
    "model.fit(X_train, y_train)\n",
    "\n",
    "# Predict on the test set\n",
    "y_pred = model.predict(X_test)\n",
    "\n",
    "# Calculate accuracy\n",
    "accuracy = accuracy_score(y_test, y_pred)\n",
    "print(f'Accuracy: {accuracy:.7f}')"
   ]
  }
 ],
 "metadata": {
  "kernelspec": {
   "display_name": "Python 3",
   "language": "python",
   "name": "python3"
  },
  "language_info": {
   "codemirror_mode": {
    "name": "ipython",
    "version": 3
   },
   "file_extension": ".py",
   "mimetype": "text/x-python",
   "name": "python",
   "nbconvert_exporter": "python",
   "pygments_lexer": "ipython3",
   "version": "3.10.12"
  },
  "papermill": {
   "default_parameters": {},
   "duration": 7.354136,
   "end_time": "2023-10-13T06:41:08.851756",
   "environment_variables": {},
   "exception": null,
   "input_path": "__notebook__.ipynb",
   "output_path": "__notebook__.ipynb",
   "parameters": {},
   "start_time": "2023-10-13T06:41:01.497620",
   "version": "2.4.0"
  }
 },
 "nbformat": 4,
 "nbformat_minor": 5
}
